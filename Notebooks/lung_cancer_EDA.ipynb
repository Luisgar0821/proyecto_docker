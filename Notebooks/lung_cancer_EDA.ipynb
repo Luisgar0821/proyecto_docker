{
 "cells": [
  {
   "cell_type": "markdown",
   "id": "3dbed6c0",
   "metadata": {},
   "source": [
    "## EDA LUNG CANCER "
   ]
  },
  {
   "cell_type": "markdown",
   "id": "8b616bda",
   "metadata": {},
   "source": [
    "Luis Angel Garcia(2230177)\n",
    "\n",
    "Juliana Toro (2225658)\n",
    "\n",
    "Antonio Cardenas Jurado(2230433)"
   ]
  },
  {
   "cell_type": "markdown",
   "id": "0eface28",
   "metadata": {},
   "source": [
    "## Libraries"
   ]
  },
  {
   "cell_type": "code",
   "execution_count": 1,
   "id": "cbb59672",
   "metadata": {},
   "outputs": [],
   "source": [
    "import matplotlib.pyplot as plt\n",
    "import pandas as pd\n",
    "import sys\n",
    "\n",
    "sys.path.append(\"../config_documents\")\n",
    "\n",
    "import numpy as np\n",
    "import seaborn as sns\n",
    "import logging"
   ]
  },
  {
   "cell_type": "markdown",
   "id": "5e85b28b",
   "metadata": {},
   "source": [
    "Logging config"
   ]
  },
  {
   "cell_type": "code",
   "execution_count": 2,
   "id": "8f86045d",
   "metadata": {},
   "outputs": [],
   "source": [
    "for handler in logging.root.handlers[:]:\n",
    "    logging.root.removeHandler(handler)\n",
    "\n",
    "logging.basicConfig(\n",
    "    level=logging.INFO,\n",
    "    format='%(asctime)s - %(levelname)s - %(message)s',\n",
    "    handlers=[logging.StreamHandler(sys.stdout)]\n",
    ")"
   ]
  },
  {
   "cell_type": "markdown",
   "id": "5831f277",
   "metadata": {},
   "source": [
    "Read the dataset from CSV"
   ]
  },
  {
   "cell_type": "code",
   "execution_count": 3,
   "id": "5e1dc9b0",
   "metadata": {},
   "outputs": [],
   "source": [
    "df = pd.read_csv(\"../airflow/dags/DATASET/lung_cancer_prediction_dataset.csv\")"
   ]
  },
  {
   "cell_type": "markdown",
   "id": "c379e1f6",
   "metadata": {},
   "source": [
    "Analysis of first fields"
   ]
  },
  {
   "cell_type": "code",
   "execution_count": null,
   "id": "aecd6362",
   "metadata": {},
   "outputs": [],
   "source": [
    "logging.info(\"\\nPrimeras filas del dataset:\")\n",
    "logging.info(df.head())"
   ]
  },
  {
   "cell_type": "markdown",
   "id": "798c382b",
   "metadata": {},
   "source": [
    "General information"
   ]
  },
  {
   "cell_type": "code",
   "execution_count": 5,
   "id": "bdcff995",
   "metadata": {},
   "outputs": [
    {
     "name": "stdout",
     "output_type": "stream",
     "text": [
      "2025-05-19 10:08:40,601 - INFO - \n",
      "Información del dataset:\n",
      "<class 'pandas.core.frame.DataFrame'>\n",
      "RangeIndex: 220632 entries, 0 to 220631\n",
      "Data columns (total 24 columns):\n",
      " #   Column                       Non-Null Count   Dtype  \n",
      "---  ------                       --------------   -----  \n",
      " 0   ID                           220632 non-null  int64  \n",
      " 1   Country                      220632 non-null  object \n",
      " 2   Population_Size              220632 non-null  int64  \n",
      " 3   Age                          220632 non-null  int64  \n",
      " 4   Gender                       220632 non-null  object \n",
      " 5   Smoker                       220632 non-null  object \n",
      " 6   Years_of_Smoking             220632 non-null  int64  \n",
      " 7   Cigarettes_per_Day           220632 non-null  int64  \n",
      " 8   Passive_Smoker               220632 non-null  object \n",
      " 9   Family_History               220632 non-null  object \n",
      " 10  Lung_Cancer_Diagnosis        220632 non-null  object \n",
      " 11  Cancer_Stage                 8961 non-null    object \n",
      " 12  Survival_Years               220632 non-null  int64  \n",
      " 13  Adenocarcinoma_Type          220632 non-null  object \n",
      " 14  Air_Pollution_Exposure       220632 non-null  object \n",
      " 15  Occupational_Exposure        220632 non-null  object \n",
      " 16  Indoor_Pollution             220632 non-null  object \n",
      " 17  Healthcare_Access            220632 non-null  object \n",
      " 18  Early_Detection              220632 non-null  object \n",
      " 19  Treatment_Type               6664 non-null    object \n",
      " 20  Developed_or_Developing      220632 non-null  object \n",
      " 21  Annual_Lung_Cancer_Deaths    220632 non-null  int64  \n",
      " 22  Lung_Cancer_Prevalence_Rate  220632 non-null  float64\n",
      " 23  Mortality_Rate               220632 non-null  float64\n",
      "dtypes: float64(2), int64(7), object(15)\n",
      "memory usage: 40.4+ MB\n",
      "2025-05-19 10:08:40,707 - INFO - None\n"
     ]
    }
   ],
   "source": [
    "logging.info(\"\\nInformación del dataset:\")\n",
    "logging.info(df.info())"
   ]
  },
  {
   "cell_type": "markdown",
   "id": "c413ea68",
   "metadata": {},
   "source": [
    "null values"
   ]
  },
  {
   "cell_type": "code",
   "execution_count": 6,
   "id": "34f1508f",
   "metadata": {},
   "outputs": [
    {
     "name": "stdout",
     "output_type": "stream",
     "text": [
      "2025-05-19 10:08:43,096 - INFO - cantidad de nulos:\n",
      " ID                                  0\n",
      "Country                             0\n",
      "Population_Size                     0\n",
      "Age                                 0\n",
      "Gender                              0\n",
      "Smoker                              0\n",
      "Years_of_Smoking                    0\n",
      "Cigarettes_per_Day                  0\n",
      "Passive_Smoker                      0\n",
      "Family_History                      0\n",
      "Lung_Cancer_Diagnosis               0\n",
      "Cancer_Stage                   211671\n",
      "Survival_Years                      0\n",
      "Adenocarcinoma_Type                 0\n",
      "Air_Pollution_Exposure              0\n",
      "Occupational_Exposure               0\n",
      "Indoor_Pollution                    0\n",
      "Healthcare_Access                   0\n",
      "Early_Detection                     0\n",
      "Treatment_Type                 213968\n",
      "Developed_or_Developing             0\n",
      "Annual_Lung_Cancer_Deaths           0\n",
      "Lung_Cancer_Prevalence_Rate         0\n",
      "Mortality_Rate                      0\n",
      "dtype: int64\n"
     ]
    }
   ],
   "source": [
    "logging.info(f\"cantidad de nulos:\\n {df.isnull().sum()}\")"
   ]
  },
  {
   "cell_type": "markdown",
   "id": "f3e77f5b",
   "metadata": {},
   "source": [
    "duplicates values"
   ]
  },
  {
   "cell_type": "code",
   "execution_count": 7,
   "id": "da1daa43",
   "metadata": {},
   "outputs": [
    {
     "name": "stdout",
     "output_type": "stream",
     "text": [
      "2025-05-19 10:08:45,159 - INFO - \n",
      "Cantidad de filas duplicadas: 0\n"
     ]
    }
   ],
   "source": [
    "logging.info(f\"\\nCantidad de filas duplicadas: {df.duplicated().sum()}\")"
   ]
  },
  {
   "cell_type": "markdown",
   "id": "8214109a",
   "metadata": {},
   "source": [
    "Unique values"
   ]
  },
  {
   "cell_type": "code",
   "execution_count": 8,
   "id": "6e8d1571",
   "metadata": {},
   "outputs": [
    {
     "name": "stdout",
     "output_type": "stream",
     "text": [
      "\n",
      "Valores únicos en la columna 'Gender': ['Male' 'Female']\n",
      "Valores únicos en la columna 'Smoker': ['Yes' 'No']\n",
      "Valores únicos en la columna 'Passive_Smoker': ['No' 'Yes']\n",
      "Valores únicos en la columna 'Family_History': ['No' 'Yes']\n",
      "Valores únicos en la columna 'Lung_Cancer_Diagnosis': ['No' 'Yes']\n",
      "Valores únicos en la columna 'Cancer_Stage': [nan 'Stage 1' 'Stage 2' 'Stage 3' 'Stage 4']\n",
      "Valores únicos en la columna 'Adenocarcinoma_Type': ['Yes' 'No']\n",
      "Valores únicos en la columna 'Air_pollution_exposure': ['Low' 'Medium' 'High']\n",
      "Valores únicos en la columna 'Occupational_Exposure': ['Yes' 'No']\n",
      "Valores únicos en la columna 'Indoor_pollution': ['No' 'Yes']\n",
      "Valores únicos en la columna 'Healtcare_Access': ['Poor' 'Good']\n",
      "Valores únicos en la columna 'Early_Detection': ['No' 'Yes']\n",
      "Valores únicos en la columna 'Developed_or_Developing': ['Developing' 'Developed']\n"
     ]
    }
   ],
   "source": [
    "print(\"\\nValores únicos en la columna 'Gender':\", df['Gender'].unique())\n",
    "print(\"Valores únicos en la columna 'Smoker':\", df['Smoker'].unique())\n",
    "print(\"Valores únicos en la columna 'Passive_Smoker':\", df['Passive_Smoker'].unique())\n",
    "print(\"Valores únicos en la columna 'Family_History':\", df['Family_History'].unique())\n",
    "print(\"Valores únicos en la columna 'Lung_Cancer_Diagnosis':\", df['Lung_Cancer_Diagnosis'].unique())\n",
    "print(\"Valores únicos en la columna 'Cancer_Stage':\", df['Cancer_Stage'].unique())\n",
    "print(\"Valores únicos en la columna 'Adenocarcinoma_Type':\", df['Adenocarcinoma_Type'].unique())\n",
    "print(\"Valores únicos en la columna 'Air_pollution_exposure':\", df['Air_Pollution_Exposure'].unique())\n",
    "print(\"Valores únicos en la columna 'Occupational_Exposure':\", df['Occupational_Exposure'].unique())\n",
    "print(\"Valores únicos en la columna 'Indoor_pollution':\", df['Indoor_Pollution'].unique())\n",
    "print(\"Valores únicos en la columna 'Healtcare_Access':\", df['Healthcare_Access'].unique())\n",
    "print(\"Valores únicos en la columna 'Early_Detection':\", df['Early_Detection'].unique())\n",
    "print(\"Valores únicos en la columna 'Developed_or_Developing':\", df['Developed_or_Developing'].unique())"
   ]
  },
  {
   "cell_type": "markdown",
   "id": "a4ceafa1",
   "metadata": {},
   "source": []
  },
  {
   "cell_type": "markdown",
   "id": "ae10f5e8",
   "metadata": {},
   "source": [
    "Cigarrites per day analisys"
   ]
  },
  {
   "cell_type": "code",
   "execution_count": 9,
   "id": "b874a4fa",
   "metadata": {},
   "outputs": [
    {
     "name": "stdout",
     "output_type": "stream",
     "text": [
      "2025-05-19 10:08:52,058 - INFO - \n",
      "Los minimos cigarrillos al dia encontrados fueron: 0\n",
      "2025-05-19 10:08:52,059 - INFO - Los maximos cigarrillos al dia encontrados fueron: 30\n",
      "2025-05-19 10:08:52,060 - INFO - \n",
      "Número de personas que fuman son fumadoras: 88341\n",
      "2025-05-19 10:08:52,124 - INFO - \n",
      "Q1: 11.0, Q3: 24.0, IQR: 13.0\n",
      "2025-05-19 10:08:52,125 - INFO - Límite inferior ajustado: 1\n",
      "2025-05-19 10:08:52,125 - INFO - Límite superior: 43.5\n",
      "2025-05-19 10:08:52,126 - INFO - Número de valores atípicos: 0\n"
     ]
    }
   ],
   "source": [
    "min_cigarettes = df[\"Cigarettes_per_Day\"].min()\n",
    "max_cigarettes = df[\"Cigarettes_per_Day\"].max()\n",
    "\n",
    "logging.info(f\"\\nLos minimos cigarrillos al dia encontrados fueron: {min_cigarettes}\")\n",
    "logging.info(f\"Los maximos cigarrillos al dia encontrados fueron: {max_cigarettes}\")\n",
    "\n",
    "smokers = (df[\"Cigarettes_per_Day\"] > 0).sum()\n",
    "logging.info(f\"\\nNúmero de personas que fuman son fumadoras: {smokers}\")\n",
    "\n",
    "df_smokers = df[df[\"Cigarettes_per_Day\"]>0]\n",
    "\n",
    "q1 = df_smokers[\"Cigarettes_per_Day\"].quantile(0.25)\n",
    "q3 = df_smokers[\"Cigarettes_per_Day\"].quantile(0.75)\n",
    "iqr=q3-q1\n",
    "\n",
    "limit_inf = max(1, q1- 1.5 * iqr)\n",
    "limit_sup = q3 + 1.5 * iqr\n",
    "\n",
    "atipic_value= df_smokers[(df_smokers[\"Cigarettes_per_Day\"] < limit_inf) | (df_smokers[\"Cigarettes_per_Day\"]>limit_sup)]\n",
    "\n",
    "logging.info(f\"\\nQ1: {q1}, Q3: {q3}, IQR: {iqr}\")\n",
    "logging.info(f\"Límite inferior ajustado: {limit_inf}\")\n",
    "logging.info(f\"Límite superior: {limit_sup}\")\n",
    "logging.info(f\"Número de valores atípicos: {atipic_value.shape[0]}\")"
   ]
  },
  {
   "cell_type": "markdown",
   "id": "91f88f52",
   "metadata": {},
   "source": [
    "Age verification"
   ]
  },
  {
   "cell_type": "code",
   "execution_count": 10,
   "id": "4c167550",
   "metadata": {},
   "outputs": [
    {
     "name": "stdout",
     "output_type": "stream",
     "text": [
      "2025-05-19 10:08:54,245 - INFO - \n",
      "La edad maxima es:  85\n",
      "2025-05-19 10:08:54,246 - INFO - \n",
      "La edad minima es: 20\n"
     ]
    }
   ],
   "source": [
    "age_max = df[\"Age\"].max()\n",
    "age_min = df[\"Age\"].min()\n",
    "logging.info(f\"\\nLa edad maxima es:  {age_max}\")\n",
    "logging.info(f\"\\nLa edad minima es: {age_min}\")"
   ]
  },
  {
   "cell_type": "markdown",
   "id": "c2e71291",
   "metadata": {},
   "source": [
    "Map of columns"
   ]
  },
  {
   "cell_type": "code",
   "execution_count": 11,
   "id": "a8c8e4b3",
   "metadata": {},
   "outputs": [
    {
     "name": "stdout",
     "output_type": "stream",
     "text": [
      "<class 'pandas.core.frame.DataFrame'>\n",
      "RangeIndex: 220632 entries, 0 to 220631\n",
      "Data columns (total 20 columns):\n",
      " #   Column                       Non-Null Count   Dtype  \n",
      "---  ------                       --------------   -----  \n",
      " 0   Age                          220632 non-null  int64  \n",
      " 1   Country                      220632 non-null  object \n",
      " 2   Lung_Cancer_Prevalence_Rate  220632 non-null  float64\n",
      " 3   Smoker                       220632 non-null  object \n",
      " 4   Years_of_Smoking             220632 non-null  int64  \n",
      " 5   Cigarettes_per_Day           220632 non-null  int64  \n",
      " 6   Passive_Smoker               220632 non-null  object \n",
      " 7   Lung_Cancer_Diagnosis        220632 non-null  object \n",
      " 8   Healthcare_Access            220632 non-null  object \n",
      " 9   Early_Detection              220632 non-null  object \n",
      " 10  Survival_Years               220632 non-null  int64  \n",
      " 11  Developed_or_Developing      220632 non-null  object \n",
      " 12  Mortality_Rate               220632 non-null  float64\n",
      " 13  Annual_Lung_Cancer_Deaths    220632 non-null  int64  \n",
      " 14  Air_Pollution_Exposure       220632 non-null  object \n",
      " 15  Occupational_Exposure        220632 non-null  object \n",
      " 16  Indoor_Pollution             220632 non-null  object \n",
      " 17  Family_History               220632 non-null  object \n",
      " 18  Treatment_Type               6664 non-null    object \n",
      " 19  Cancer_Stage                 8961 non-null    object \n",
      "dtypes: float64(2), int64(5), object(13)\n",
      "memory usage: 33.7+ MB\n",
      "2025-05-19 10:08:55,719 - INFO - \n",
      "None\n"
     ]
    }
   ],
   "source": [
    "df_selected = df[[\"Age\",\"Country\",\"Lung_Cancer_Prevalence_Rate\",\"Smoker\",\"Years_of_Smoking\",\"Cigarettes_per_Day\",\"Passive_Smoker\",\"Lung_Cancer_Diagnosis\",\"Healthcare_Access\",\"Early_Detection\",\"Survival_Years\",\"Developed_or_Developing\",\"Mortality_Rate\",\"Annual_Lung_Cancer_Deaths\",\"Air_Pollution_Exposure\",\"Occupational_Exposure\",\"Indoor_Pollution\",\"Family_History\",\"Treatment_Type\",\"Cancer_Stage\"]]\n",
    "logging.info(f\"\\n{df_selected.info()}\")"
   ]
  },
  {
   "cell_type": "markdown",
   "id": "6c083e26",
   "metadata": {},
   "source": [
    "Cleaned null "
   ]
  },
  {
   "cell_type": "code",
   "execution_count": 50,
   "id": "d396afe5",
   "metadata": {},
   "outputs": [
    {
     "name": "stderr",
     "output_type": "stream",
     "text": [
      "/tmp/ipykernel_1679/3851637230.py:1: SettingWithCopyWarning: \n",
      "A value is trying to be set on a copy of a slice from a DataFrame\n",
      "\n",
      "See the caveats in the documentation: https://pandas.pydata.org/pandas-docs/stable/user_guide/indexing.html#returning-a-view-versus-a-copy\n",
      "  df_selected.fillna(\"any\", inplace=True)\n"
     ]
    },
    {
     "data": {
      "text/plain": [
       "Age                            0\n",
       "Country                        0\n",
       "Lung_Cancer_Prevalence_Rate    0\n",
       "Smoker                         0\n",
       "Years_of_Smoking               0\n",
       "Cigarettes_per_Day             0\n",
       "Passive_Smoker                 0\n",
       "Lung_Cancer_Diagnosis          0\n",
       "Healthcare_Access              0\n",
       "Early_Detection                0\n",
       "Survival_Years                 0\n",
       "Developed_or_Developing        0\n",
       "Mortality_Rate                 0\n",
       "Annual_Lung_Cancer_Deaths      0\n",
       "Air_Pollution_Exposure         0\n",
       "Occupational_Exposure          0\n",
       "Indoor_Pollution               0\n",
       "Family_History                 0\n",
       "Treatment_Type                 0\n",
       "Cancer_Stage                   0\n",
       "dtype: int64"
      ]
     },
     "execution_count": 50,
     "metadata": {},
     "output_type": "execute_result"
    }
   ],
   "source": [
    "df_selected.fillna(\"any\", inplace=True)\n",
    "df_selected.isnull().sum()"
   ]
  },
  {
   "cell_type": "markdown",
   "id": "8fdc46e6",
   "metadata": {},
   "source": [
    "To boleans"
   ]
  },
  {
   "cell_type": "code",
   "execution_count": 51,
   "id": "e9a19e3a",
   "metadata": {},
   "outputs": [
    {
     "name": "stdout",
     "output_type": "stream",
     "text": [
      "2025-04-18 13:43:27,791 - INFO - <bound method DataFrame.info of         Age       Country  Lung_Cancer_Prevalence_Rate  Smoker  \\\n",
      "0        80         China                         2.44    True   \n",
      "1        53          Iran                         2.10   False   \n",
      "2        47        Mexico                         1.11    True   \n",
      "3        39     Indonesia                         0.75   False   \n",
      "4        44  South Africa                         2.44   False   \n",
      "...     ...           ...                          ...     ...   \n",
      "220627   55      Thailand                         0.70    True   \n",
      "220628   66  South Africa                         0.78   False   \n",
      "220629   46       Vietnam                         1.16   False   \n",
      "220630   36      Ethiopia                         1.06   False   \n",
      "220631   60       Germany                         1.07   False   \n",
      "\n",
      "        Years_of_Smoking  Cigarettes_per_Day  Passive_Smoker  \\\n",
      "0                     30                  29           False   \n",
      "1                      0                   0            True   \n",
      "2                     12                   6            True   \n",
      "3                      0                   0           False   \n",
      "4                      0                   0            True   \n",
      "...                  ...                 ...             ...   \n",
      "220627                 4                  10           False   \n",
      "220628                 0                   0           False   \n",
      "220629                 0                   0           False   \n",
      "220630                 0                   0            True   \n",
      "220631                 0                   0           False   \n",
      "\n",
      "        Lung_Cancer_Diagnosis Healthcare_Access  Early_Detection  \\\n",
      "0                       False              Poor            False   \n",
      "1                       False              Poor            False   \n",
      "2                       False              Poor             True   \n",
      "3                       False              Poor            False   \n",
      "4                       False              Poor            False   \n",
      "...                       ...               ...              ...   \n",
      "220627                  False              Poor             True   \n",
      "220628                  False              Poor            False   \n",
      "220629                  False              Poor            False   \n",
      "220630                  False              Poor            False   \n",
      "220631                  False              Good            False   \n",
      "\n",
      "        Survival_Years Developed_or_Developing  Mortality_Rate  \\\n",
      "0                    0              Developing             0.0   \n",
      "1                    0              Developing             0.0   \n",
      "2                    0              Developing             0.0   \n",
      "3                    0              Developing             0.0   \n",
      "4                    0              Developing             0.0   \n",
      "...                ...                     ...             ...   \n",
      "220627               0              Developing             0.0   \n",
      "220628               0              Developing             0.0   \n",
      "220629               0              Developing             0.0   \n",
      "220630               0              Developing             0.0   \n",
      "220631               0               Developed             0.0   \n",
      "\n",
      "        Annual_Lung_Cancer_Deaths Air_Pollution_Exposure  \\\n",
      "0                          690000                    Low   \n",
      "1                           27000                    Low   \n",
      "2                           28000                 Medium   \n",
      "3                           40000                    Low   \n",
      "4                           15000                 Medium   \n",
      "...                           ...                    ...   \n",
      "220627                      26000                 Medium   \n",
      "220628                      15000                   High   \n",
      "220629                      22000                 Medium   \n",
      "220630                      18000                   High   \n",
      "220631                      45000                 Medium   \n",
      "\n",
      "        Occupational_Exposure  Indoor_Pollution  Family_History  \\\n",
      "0                        True             False           False   \n",
      "1                        True             False           False   \n",
      "2                       False             False           False   \n",
      "3                       False             False            True   \n",
      "4                        True             False           False   \n",
      "...                       ...               ...             ...   \n",
      "220627                  False             False            True   \n",
      "220628                  False             False           False   \n",
      "220629                  False             False           False   \n",
      "220630                  False             False            True   \n",
      "220631                  False              True           False   \n",
      "\n",
      "       Treatment_Type Cancer_Stage  \n",
      "0                 any          any  \n",
      "1                 any          any  \n",
      "2                 any          any  \n",
      "3                 any          any  \n",
      "4                 any          any  \n",
      "...               ...          ...  \n",
      "220627            any          any  \n",
      "220628            any          any  \n",
      "220629            any          any  \n",
      "220630            any          any  \n",
      "220631            any          any  \n",
      "\n",
      "[220632 rows x 20 columns]>\n"
     ]
    },
    {
     "name": "stderr",
     "output_type": "stream",
     "text": [
      "/tmp/ipykernel_1679/1341390526.py:1: SettingWithCopyWarning: \n",
      "A value is trying to be set on a copy of a slice from a DataFrame.\n",
      "Try using .loc[row_indexer,col_indexer] = value instead\n",
      "\n",
      "See the caveats in the documentation: https://pandas.pydata.org/pandas-docs/stable/user_guide/indexing.html#returning-a-view-versus-a-copy\n",
      "  df_selected[\"Early_Detection\"] = df_selected[\"Early_Detection\"].map({\"Yes\": True, \"No\": False})\n",
      "/tmp/ipykernel_1679/1341390526.py:2: SettingWithCopyWarning: \n",
      "A value is trying to be set on a copy of a slice from a DataFrame.\n",
      "Try using .loc[row_indexer,col_indexer] = value instead\n",
      "\n",
      "See the caveats in the documentation: https://pandas.pydata.org/pandas-docs/stable/user_guide/indexing.html#returning-a-view-versus-a-copy\n",
      "  df_selected[\"Smoker\"] = df_selected[\"Smoker\"].map({\"Yes\": True, \"No\": False})\n",
      "/tmp/ipykernel_1679/1341390526.py:3: SettingWithCopyWarning: \n",
      "A value is trying to be set on a copy of a slice from a DataFrame.\n",
      "Try using .loc[row_indexer,col_indexer] = value instead\n",
      "\n",
      "See the caveats in the documentation: https://pandas.pydata.org/pandas-docs/stable/user_guide/indexing.html#returning-a-view-versus-a-copy\n",
      "  df_selected[\"Passive_Smoker\"] = df_selected[\"Passive_Smoker\"].map({\"Yes\": True, \"No\": False})\n",
      "/tmp/ipykernel_1679/1341390526.py:4: SettingWithCopyWarning: \n",
      "A value is trying to be set on a copy of a slice from a DataFrame.\n",
      "Try using .loc[row_indexer,col_indexer] = value instead\n",
      "\n",
      "See the caveats in the documentation: https://pandas.pydata.org/pandas-docs/stable/user_guide/indexing.html#returning-a-view-versus-a-copy\n",
      "  df_selected[\"Lung_Cancer_Diagnosis\"] = df_selected[\"Lung_Cancer_Diagnosis\"].map({\"Yes\": True, \"No\": False})\n",
      "/tmp/ipykernel_1679/1341390526.py:5: SettingWithCopyWarning: \n",
      "A value is trying to be set on a copy of a slice from a DataFrame.\n",
      "Try using .loc[row_indexer,col_indexer] = value instead\n",
      "\n",
      "See the caveats in the documentation: https://pandas.pydata.org/pandas-docs/stable/user_guide/indexing.html#returning-a-view-versus-a-copy\n",
      "  df_selected[\"Occupational_Exposure\"] = df_selected[\"Occupational_Exposure\"].map({\"Yes\": True, \"No\": False})\n",
      "/tmp/ipykernel_1679/1341390526.py:6: SettingWithCopyWarning: \n",
      "A value is trying to be set on a copy of a slice from a DataFrame.\n",
      "Try using .loc[row_indexer,col_indexer] = value instead\n",
      "\n",
      "See the caveats in the documentation: https://pandas.pydata.org/pandas-docs/stable/user_guide/indexing.html#returning-a-view-versus-a-copy\n",
      "  df_selected[\"Indoor_Pollution\"] = df_selected[\"Indoor_Pollution\"].map({\"Yes\": True, \"No\": False})\n",
      "/tmp/ipykernel_1679/1341390526.py:7: SettingWithCopyWarning: \n",
      "A value is trying to be set on a copy of a slice from a DataFrame.\n",
      "Try using .loc[row_indexer,col_indexer] = value instead\n",
      "\n",
      "See the caveats in the documentation: https://pandas.pydata.org/pandas-docs/stable/user_guide/indexing.html#returning-a-view-versus-a-copy\n",
      "  df_selected[\"Family_History\"] = df_selected[\"Family_History\"].map({\"Yes\": True, \"No\": False})\n"
     ]
    }
   ],
   "source": [
    "df_selected[\"Early_Detection\"] = df_selected[\"Early_Detection\"].map({\"Yes\": True, \"No\": False})\n",
    "df_selected[\"Smoker\"] = df_selected[\"Smoker\"].map({\"Yes\": True, \"No\": False})\n",
    "df_selected[\"Passive_Smoker\"] = df_selected[\"Passive_Smoker\"].map({\"Yes\": True, \"No\": False})\n",
    "df_selected[\"Lung_Cancer_Diagnosis\"] = df_selected[\"Lung_Cancer_Diagnosis\"].map({\"Yes\": True, \"No\": False})\n",
    "df_selected[\"Occupational_Exposure\"] = df_selected[\"Occupational_Exposure\"].map({\"Yes\": True, \"No\": False})\n",
    "df_selected[\"Indoor_Pollution\"] = df_selected[\"Indoor_Pollution\"].map({\"Yes\": True, \"No\": False})\n",
    "df_selected[\"Family_History\"] = df_selected[\"Family_History\"].map({\"Yes\": True, \"No\": False})\n",
    "logging.info(df_selected.info)"
   ]
  }
 ],
 "metadata": {
  "kernelspec": {
   "display_name": "venv",
   "language": "python",
   "name": "python3"
  },
  "language_info": {
   "codemirror_mode": {
    "name": "ipython",
    "version": 3
   },
   "file_extension": ".py",
   "mimetype": "text/x-python",
   "name": "python",
   "nbconvert_exporter": "python",
   "pygments_lexer": "ipython3",
   "version": "3.12.3"
  }
 },
 "nbformat": 4,
 "nbformat_minor": 5
}
